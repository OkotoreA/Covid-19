{
 "cells": [
  {
   "cell_type": "code",
   "execution_count": 1,
   "metadata": {},
   "outputs": [],
   "source": [
    "import numpy as np \n",
    "import pandas as pd \n",
    "import seaborn as sns\n",
    "import statistics  as sts\n",
    "import sys"
   ]
  },
  {
   "cell_type": "code",
   "execution_count": 6,
   "metadata": {},
   "outputs": [
    {
     "data": {
      "text/html": [
       "<div>\n",
       "<style scoped>\n",
       "    .dataframe tbody tr th:only-of-type {\n",
       "        vertical-align: middle;\n",
       "    }\n",
       "\n",
       "    .dataframe tbody tr th {\n",
       "        vertical-align: top;\n",
       "    }\n",
       "\n",
       "    .dataframe thead th {\n",
       "        text-align: right;\n",
       "    }\n",
       "</style>\n",
       "<table border=\"1\" class=\"dataframe\">\n",
       "  <thead>\n",
       "    <tr style=\"text-align: right;\">\n",
       "      <th></th>\n",
       "      <th>#</th>\n",
       "      <th>Country,\\nOther</th>\n",
       "      <th>Total\\nCases</th>\n",
       "      <th>Total\\nDeaths</th>\n",
       "      <th>New\\nDeaths</th>\n",
       "      <th>Total\\nRecovered</th>\n",
       "      <th>Active\\nCases</th>\n",
       "      <th>Serious,\\nCritical</th>\n",
       "      <th>Tot Cases/\\n1M pop</th>\n",
       "      <th>Deaths/\\n1M pop</th>\n",
       "      <th>Total\\nTests</th>\n",
       "      <th>Tests/\\n1M pop</th>\n",
       "      <th>Population</th>\n",
       "    </tr>\n",
       "  </thead>\n",
       "  <tbody>\n",
       "    <tr>\n",
       "      <th>0</th>\n",
       "      <td>1</td>\n",
       "      <td>USA</td>\n",
       "      <td>98,166,904</td>\n",
       "      <td>1,084,282</td>\n",
       "      <td>NaN</td>\n",
       "      <td>94,962,112</td>\n",
       "      <td>2,120,510</td>\n",
       "      <td>2,970</td>\n",
       "      <td>293,206</td>\n",
       "      <td>3,239</td>\n",
       "      <td>1,118,158,870</td>\n",
       "      <td>3,339,729</td>\n",
       "      <td>334,805,269</td>\n",
       "    </tr>\n",
       "    <tr>\n",
       "      <th>1</th>\n",
       "      <td>2</td>\n",
       "      <td>India</td>\n",
       "      <td>44,587,307</td>\n",
       "      <td>528,629</td>\n",
       "      <td>NaN</td>\n",
       "      <td>44,019,095</td>\n",
       "      <td>39,583</td>\n",
       "      <td>698</td>\n",
       "      <td>31,698</td>\n",
       "      <td>376</td>\n",
       "      <td>894,416,853</td>\n",
       "      <td>635,857</td>\n",
       "      <td>1,406,631,776</td>\n",
       "    </tr>\n",
       "    <tr>\n",
       "      <th>2</th>\n",
       "      <td>3</td>\n",
       "      <td>France</td>\n",
       "      <td>35,342,950</td>\n",
       "      <td>155,078</td>\n",
       "      <td>NaN</td>\n",
       "      <td>34,527,115</td>\n",
       "      <td>660,757</td>\n",
       "      <td>869</td>\n",
       "      <td>538,892</td>\n",
       "      <td>2,365</td>\n",
       "      <td>271,490,188</td>\n",
       "      <td>4,139,547</td>\n",
       "      <td>65,584,518</td>\n",
       "    </tr>\n",
       "    <tr>\n",
       "      <th>3</th>\n",
       "      <td>4</td>\n",
       "      <td>Brazil</td>\n",
       "      <td>34,706,757</td>\n",
       "      <td>686,027</td>\n",
       "      <td>NaN</td>\n",
       "      <td>33,838,636</td>\n",
       "      <td>182,094</td>\n",
       "      <td>8,318</td>\n",
       "      <td>161,162</td>\n",
       "      <td>3,186</td>\n",
       "      <td>63,776,166</td>\n",
       "      <td>296,146</td>\n",
       "      <td>215,353,593</td>\n",
       "    </tr>\n",
       "    <tr>\n",
       "      <th>4</th>\n",
       "      <td>5</td>\n",
       "      <td>Germany</td>\n",
       "      <td>33,312,373</td>\n",
       "      <td>149,948</td>\n",
       "      <td>NaN</td>\n",
       "      <td>32,315,200</td>\n",
       "      <td>847,225</td>\n",
       "      <td>1,406</td>\n",
       "      <td>397,126</td>\n",
       "      <td>1,788</td>\n",
       "      <td>122,332,384</td>\n",
       "      <td>1,458,359</td>\n",
       "      <td>83,883,596</td>\n",
       "    </tr>\n",
       "  </tbody>\n",
       "</table>\n",
       "</div>"
      ],
      "text/plain": [
       "   # Country,\\nOther Total\\nCases Total\\nDeaths  New\\nDeaths Total\\nRecovered  \\\n",
       "0  1             USA   98,166,904     1,084,282          NaN       94,962,112   \n",
       "1  2           India   44,587,307       528,629          NaN       44,019,095   \n",
       "2  3          France   35,342,950       155,078          NaN       34,527,115   \n",
       "3  4          Brazil   34,706,757       686,027          NaN       33,838,636   \n",
       "4  5         Germany   33,312,373       149,948          NaN       32,315,200   \n",
       "\n",
       "  Active\\nCases Serious,\\nCritical Tot Cases/\\n1M pop Deaths/\\n1M pop  \\\n",
       "0     2,120,510              2,970            293,206           3,239   \n",
       "1        39,583                698             31,698             376   \n",
       "2       660,757                869            538,892           2,365   \n",
       "3       182,094              8,318            161,162           3,186   \n",
       "4       847,225              1,406            397,126           1,788   \n",
       "\n",
       "    Total\\nTests Tests/\\n1M pop     Population  \n",
       "0  1,118,158,870      3,339,729    334,805,269  \n",
       "1    894,416,853        635,857  1,406,631,776  \n",
       "2    271,490,188      4,139,547     65,584,518  \n",
       "3     63,776,166        296,146    215,353,593  \n",
       "4    122,332,384      1,458,359     83,883,596  "
      ]
     },
     "execution_count": 6,
     "metadata": {},
     "output_type": "execute_result"
    }
   ],
   "source": [
    "data=pd.read_csv(r\"C:\\Users\\Abraham okotore\\Downloads\\Covid Live.csv\")\n",
    "data.head()"
   ]
  },
  {
   "cell_type": "code",
   "execution_count": 7,
   "metadata": {},
   "outputs": [
    {
     "data": {
      "text/plain": [
       "Index(['#', 'Country,\\nOther', 'Total\\nCases', 'Total\\nDeaths', 'New\\nDeaths',\n",
       "       'Total\\nRecovered', 'Active\\nCases', 'Serious,\\nCritical',\n",
       "       'Tot Cases/\\n1M pop', 'Deaths/\\n1M pop', 'Total\\nTests',\n",
       "       'Tests/\\n1M pop', 'Population'],\n",
       "      dtype='object')"
      ]
     },
     "execution_count": 7,
     "metadata": {},
     "output_type": "execute_result"
    }
   ],
   "source": [
    "data.columns"
   ]
  },
  {
   "cell_type": "code",
   "execution_count": 10,
   "metadata": {},
   "outputs": [
    {
     "data": {
      "text/plain": [
       "Index(['Country', 'TotalCases', 'TotalDeaths', 'NewDeaths', 'TotalRecovered',\n",
       "       'ActiveCases', 'SeriousCritical', 'TotCases1Mpop', 'Deaths1Mpop',\n",
       "       'TotalTests', 'Tests1Mpop', 'Population'],\n",
       "      dtype='object')"
      ]
     },
     "execution_count": 10,
     "metadata": {},
     "output_type": "execute_result"
    }
   ],
   "source": [
    "data.columns"
   ]
  },
  {
   "cell_type": "code",
   "execution_count": 11,
   "metadata": {},
   "outputs": [
    {
     "data": {
      "text/plain": [
       "Country              0\n",
       "TotalCases           0\n",
       "TotalDeaths          5\n",
       "NewDeaths          227\n",
       "TotalRecovered      16\n",
       "ActiveCases         15\n",
       "SeriousCritical     83\n",
       "TotCases1Mpop        2\n",
       "Deaths1Mpop          7\n",
       "TotalTests          16\n",
       "Tests1Mpop          16\n",
       "Population           2\n",
       "dtype: int64"
      ]
     },
     "execution_count": 11,
     "metadata": {},
     "output_type": "execute_result"
    }
   ],
   "source": [
    "data.isnull().sum()\n"
   ]
  },
  {
   "cell_type": "code",
   "execution_count": 12,
   "metadata": {},
   "outputs": [
    {
     "data": {
      "text/plain": [
       "<AxesSubplot:xlabel='Deaths1Mpop', ylabel='TotCases1Mpop'>"
      ]
     },
     "execution_count": 12,
     "metadata": {},
     "output_type": "execute_result"
    },
    {
     "data": {
      "image/png": "[encoded data removed]",
      "text/plain": [
       "<Figure size 432x288 with 1 Axes>"
      ]
     },
     "metadata": {
      "needs_background": "light"
     },
     "output_type": "display_data"
    }
   ],
   "source": [
    "#'Country', 'TotalCases', 'TotalDeaths', 'NewDeaths','TotalRecovered', 'ActiveCases', 'SeriousCritical','TotCases1Mpop', 'Deaths1Mpop', 'TotalTests','Tests1Mpop', 'Population'\n",
    "\n",
    "sns.scatterplot(x=\"Deaths1Mpop\",y=\"TotCases1Mpop\",data=data)\n"
   ]
  },
  {
   "cell_type": "code",
   "execution_count": 13,
   "metadata": {},
   "outputs": [
    {
     "data": {
      "text/plain": [
       "<AxesSubplot:xlabel='TotCases1Mpop', ylabel='SeriousCritical'>"
      ]
     },
     "execution_count": 13,
     "metadata": {},
     "output_type": "execute_result"
    },
    {
     "data": {
      "image/png": "[encoded data removed]",
      "text/plain": [
       "<Figure size 432x288 with 1 Axes>"
      ]
     },
     "metadata": {
      "needs_background": "light"
     },
     "output_type": "display_data"
    }
   ],
   "source": [
    "sns.scatterplot(x=\"TotCases1Mpop\",y=\"SeriousCritical\",data=data)"
   ]
  },
  {
   "cell_type": "code",
   "execution_count": 19,
   "metadata": {},
   "outputs": [
    {
     "data": {
      "text/plain": [
       "Index(['TotalCases', 'TotalDeaths', 'TotalRecovered', 'ActiveCases',\n",
       "       'SeriousCritical', 'TotCases1Mpop', 'Deaths1Mpop', 'TotalTests',\n",
       "       'Tests1Mpop', 'Population'],\n",
       "      dtype='object')"
      ]
     },
     "execution_count": 19,
     "metadata": {},
     "output_type": "execute_result"
    }
   ],
   "source": [
    "data.dtypes\n",
    "col = data.select_dtypes(include = \"object\").columns\n",
    "col = col[ col != 'Country']\n",
    "col"
   ]
  },
  {
   "cell_type": "code",
   "execution_count": 20,
   "metadata": {},
   "outputs": [],
   "source": [
    "data['TotalCases'] = data['TotalCases'].str.replace(\",\", \"\").astype(float)\n",
    "data['SeriousCritical'] = data['SeriousCritical'].str.replace(\",\", \"\").astype(float)\n",
    "data['Tests1Mpop'] = data['Tests1Mpop'].str.replace(\",\", \"\").astype(float)\n",
    "data[ 'TotalDeaths'] = data[ 'TotalDeaths'].str.replace(\",\", \"\").astype(float)\n",
    "data[ 'TotCases1Mpop'] = data[ 'TotCases1Mpop'].str.replace(\",\", \"\").astype(float)\n",
    "data[ 'Population'] = data[ 'Population'].str.replace(\",\", \"\").astype(float)\n",
    "data[ 'TotalRecovered'] = data[ 'TotalRecovered'].str.replace(\",\", \"\").astype(float)\n",
    "data[ 'Deaths1Mpop'] = data[ 'Deaths1Mpop'].str.replace(\",\", \"\").astype(float)\n",
    "data[ 'ActiveCases'] = data[ 'ActiveCases'].str.replace(\",\", \"\").astype(float)\n",
    "data[ 'TotalTests'] = data[ 'TotalTests'].str.replace(\",\", \"\").astype(float)"
   ]
  },
  {
   "cell_type": "code",
   "execution_count": 21,
   "metadata": {},
   "outputs": [
    {
     "data": {
      "text/plain": [
       "Country             0\n",
       "TotalCases          0\n",
       "TotalDeaths         5\n",
       "NewDeaths           0\n",
       "TotalRecovered     16\n",
       "ActiveCases        15\n",
       "SeriousCritical    83\n",
       "TotCases1Mpop       2\n",
       "Deaths1Mpop         7\n",
       "TotalTests         16\n",
       "Tests1Mpop         16\n",
       "Population          2\n",
       "dtype: int64"
      ]
     },
     "execution_count": 21,
     "metadata": {},
     "output_type": "execute_result"
    }
   ],
   "source": [
    "data.isnull().sum()"
   ]
  },
  {
   "cell_type": "code",
   "execution_count": 22,
   "metadata": {},
   "outputs": [
    {
     "data": {
      "text/plain": [
       "Country            0\n",
       "TotalCases         0\n",
       "TotalDeaths        0\n",
       "NewDeaths          0\n",
       "TotalRecovered     0\n",
       "ActiveCases        0\n",
       "SeriousCritical    0\n",
       "TotCases1Mpop      0\n",
       "Deaths1Mpop        0\n",
       "TotalTests         0\n",
       "Tests1Mpop         0\n",
       "Population         0\n",
       "dtype: int64"
      ]
     },
     "execution_count": 22,
     "metadata": {},
     "output_type": "execute_result"
    }
   ],
   "source": [
    "data['NewDeaths'].fillna(0, inplace=True)\n",
    "data['TotalDeaths'].fillna(sts.mean(data['TotalDeaths'].dropna()), inplace=True)\n",
    "data['TotalRecovered'].fillna(sts.mean(data['TotalRecovered'].dropna()), inplace=True)\n",
    "data['ActiveCases'].fillna(sts.mean(data['ActiveCases'].dropna()), inplace=True)\n",
    "data['SeriousCritical'].fillna(sts.mean(data['SeriousCritical'].dropna()), inplace=True)\n",
    "data['TotCases1Mpop'].fillna(sts.mean(data['TotCases1Mpop'].dropna()), inplace=True)\n",
    "data['Deaths1Mpop'].fillna(sts.mean(data['Deaths1Mpop'].dropna()), inplace=True)\n",
    "data['TotalTests'].fillna(sts.mean(data['TotalTests'].dropna()), inplace=True)\n",
    "data['Tests1Mpop'].fillna(sts.mean(data['Tests1Mpop'].dropna()), inplace=True)\n",
    "data['Population'].fillna(sts.mean(data['Population'].dropna()), inplace=True)\n",
    "\n",
    "data.isnull().sum()"
   ]
  },
  {
   "cell_type": "code",
   "execution_count": 23,
   "metadata": {},
   "outputs": [
    {
     "data": {
      "text/html": [
       "<div>\n",
       "<style scoped>\n",
       "    .dataframe tbody tr th:only-of-type {\n",
       "        vertical-align: middle;\n",
       "    }\n",
       "\n",
       "    .dataframe tbody tr th {\n",
       "        vertical-align: top;\n",
       "    }\n",
       "\n",
       "    .dataframe thead th {\n",
       "        text-align: right;\n",
       "    }\n",
       "</style>\n",
       "<table border=\"1\" class=\"dataframe\">\n",
       "  <thead>\n",
       "    <tr style=\"text-align: right;\">\n",
       "      <th></th>\n",
       "      <th>TotalCases</th>\n",
       "      <th>TotalDeaths</th>\n",
       "      <th>NewDeaths</th>\n",
       "      <th>TotalRecovered</th>\n",
       "      <th>ActiveCases</th>\n",
       "      <th>SeriousCritical</th>\n",
       "      <th>TotCases1Mpop</th>\n",
       "      <th>Deaths1Mpop</th>\n",
       "      <th>TotalTests</th>\n",
       "      <th>Tests1Mpop</th>\n",
       "      <th>Population</th>\n",
       "    </tr>\n",
       "  </thead>\n",
       "  <tbody>\n",
       "    <tr>\n",
       "      <th>count</th>\n",
       "      <td>2.300000e+02</td>\n",
       "      <td>2.300000e+02</td>\n",
       "      <td>230.000000</td>\n",
       "      <td>2.300000e+02</td>\n",
       "      <td>2.300000e+02</td>\n",
       "      <td>230.000000</td>\n",
       "      <td>230.000000</td>\n",
       "      <td>230.000000</td>\n",
       "      <td>2.300000e+02</td>\n",
       "      <td>2.300000e+02</td>\n",
       "      <td>2.300000e+02</td>\n",
       "    </tr>\n",
       "    <tr>\n",
       "      <th>mean</th>\n",
       "      <td>2.705969e+06</td>\n",
       "      <td>2.909820e+04</td>\n",
       "      <td>0.234783</td>\n",
       "      <td>2.807255e+06</td>\n",
       "      <td>5.744895e+04</td>\n",
       "      <td>270.224490</td>\n",
       "      <td>179621.846491</td>\n",
       "      <td>1197.968610</td>\n",
       "      <td>3.137011e+07</td>\n",
       "      <td>2.050888e+06</td>\n",
       "      <td>3.484620e+07</td>\n",
       "    </tr>\n",
       "    <tr>\n",
       "      <th>std</th>\n",
       "      <td>8.779899e+06</td>\n",
       "      <td>1.010917e+05</td>\n",
       "      <td>2.835614</td>\n",
       "      <td>8.501757e+06</td>\n",
       "      <td>2.004752e+05</td>\n",
       "      <td>736.746974</td>\n",
       "      <td>181574.374660</td>\n",
       "      <td>1227.784889</td>\n",
       "      <td>1.103852e+08</td>\n",
       "      <td>3.366370e+06</td>\n",
       "      <td>1.383153e+08</td>\n",
       "    </tr>\n",
       "    <tr>\n",
       "      <th>min</th>\n",
       "      <td>9.000000e+00</td>\n",
       "      <td>1.000000e+00</td>\n",
       "      <td>0.000000</td>\n",
       "      <td>2.000000e+00</td>\n",
       "      <td>0.000000e+00</td>\n",
       "      <td>1.000000</td>\n",
       "      <td>16.000000</td>\n",
       "      <td>2.000000</td>\n",
       "      <td>5.117000e+03</td>\n",
       "      <td>5.091000e+03</td>\n",
       "      <td>7.990000e+02</td>\n",
       "    </tr>\n",
       "    <tr>\n",
       "      <th>25%</th>\n",
       "      <td>2.364900e+04</td>\n",
       "      <td>2.160000e+02</td>\n",
       "      <td>0.000000</td>\n",
       "      <td>2.449950e+04</td>\n",
       "      <td>1.700000e+02</td>\n",
       "      <td>10.000000</td>\n",
       "      <td>17017.500000</td>\n",
       "      <td>174.250000</td>\n",
       "      <td>4.007550e+05</td>\n",
       "      <td>1.968250e+05</td>\n",
       "      <td>5.476582e+05</td>\n",
       "    </tr>\n",
       "    <tr>\n",
       "      <th>50%</th>\n",
       "      <td>2.037110e+05</td>\n",
       "      <td>2.454000e+03</td>\n",
       "      <td>0.000000</td>\n",
       "      <td>3.248420e+05</td>\n",
       "      <td>2.192000e+03</td>\n",
       "      <td>122.500000</td>\n",
       "      <td>120642.500000</td>\n",
       "      <td>827.500000</td>\n",
       "      <td>2.681464e+06</td>\n",
       "      <td>1.061616e+06</td>\n",
       "      <td>5.889248e+06</td>\n",
       "    </tr>\n",
       "    <tr>\n",
       "      <th>75%</th>\n",
       "      <td>1.256286e+06</td>\n",
       "      <td>1.624250e+04</td>\n",
       "      <td>0.000000</td>\n",
       "      <td>2.399912e+06</td>\n",
       "      <td>3.082250e+04</td>\n",
       "      <td>270.224490</td>\n",
       "      <td>292559.750000</td>\n",
       "      <td>1896.750000</td>\n",
       "      <td>2.071086e+07</td>\n",
       "      <td>2.072495e+06</td>\n",
       "      <td>2.546516e+07</td>\n",
       "    </tr>\n",
       "    <tr>\n",
       "      <th>max</th>\n",
       "      <td>9.816690e+07</td>\n",
       "      <td>1.084282e+06</td>\n",
       "      <td>42.000000</td>\n",
       "      <td>9.496211e+07</td>\n",
       "      <td>2.120510e+06</td>\n",
       "      <td>8318.000000</td>\n",
       "      <td>703959.000000</td>\n",
       "      <td>6429.000000</td>\n",
       "      <td>1.118159e+09</td>\n",
       "      <td>2.200494e+07</td>\n",
       "      <td>1.448471e+09</td>\n",
       "    </tr>\n",
       "  </tbody>\n",
       "</table>\n",
       "</div>"
      ],
      "text/plain": [
       "         TotalCases   TotalDeaths   NewDeaths  TotalRecovered   ActiveCases  \\\n",
       "count  2.300000e+02  2.300000e+02  230.000000    2.300000e+02  2.300000e+02   \n",
       "mean   2.705969e+06  2.909820e+04    0.234783    2.807255e+06  5.744895e+04   \n",
       "std    8.779899e+06  1.010917e+05    2.835614    8.501757e+06  2.004752e+05   \n",
       "min    9.000000e+00  1.000000e+00    0.000000    2.000000e+00  0.000000e+00   \n",
       "25%    2.364900e+04  2.160000e+02    0.000000    2.449950e+04  1.700000e+02   \n",
       "50%    2.037110e+05  2.454000e+03    0.000000    3.248420e+05  2.192000e+03   \n",
       "75%    1.256286e+06  1.624250e+04    0.000000    2.399912e+06  3.082250e+04   \n",
       "max    9.816690e+07  1.084282e+06   42.000000    9.496211e+07  2.120510e+06   \n",
       "\n",
       "       SeriousCritical  TotCases1Mpop  Deaths1Mpop    TotalTests  \\\n",
       "count       230.000000     230.000000   230.000000  2.300000e+02   \n",
       "mean        270.224490  179621.846491  1197.968610  3.137011e+07   \n",
       "std         736.746974  181574.374660  1227.784889  1.103852e+08   \n",
       "min           1.000000      16.000000     2.000000  5.117000e+03   \n",
       "25%          10.000000   17017.500000   174.250000  4.007550e+05   \n",
       "50%         122.500000  120642.500000   827.500000  2.681464e+06   \n",
       "75%         270.224490  292559.750000  1896.750000  2.071086e+07   \n",
       "max        8318.000000  703959.000000  6429.000000  1.118159e+09   \n",
       "\n",
       "         Tests1Mpop    Population  \n",
       "count  2.300000e+02  2.300000e+02  \n",
       "mean   2.050888e+06  3.484620e+07  \n",
       "std    3.366370e+06  1.383153e+08  \n",
       "min    5.091000e+03  7.990000e+02  \n",
       "25%    1.968250e+05  5.476582e+05  \n",
       "50%    1.061616e+06  5.889248e+06  \n",
       "75%    2.072495e+06  2.546516e+07  \n",
       "max    2.200494e+07  1.448471e+09  "
      ]
     },
     "execution_count": 23,
     "metadata": {},
     "output_type": "execute_result"
    }
   ],
   "source": [
    "data.describe()"
   ]
  },
  {
   "cell_type": "code",
   "execution_count": 24,
   "metadata": {},
   "outputs": [],
   "source": [
    "data['CasesGroup']=pd.cut(\n",
    "\n",
    "   data['TotCases1Mpop'],\n",
    "\n",
    "   bins=[100000, 200000, 300000, 400000, 500000, 600000, 700000, sys.maxsize],\n",
    "\n",
    "   labels=['<100K' , '< 200K' , '< 300K' , '< 400K' , '< 500K' , '< 600K' , '< 700K']\n",
    "\n",
    ")"
   ]
  },
  {
   "cell_type": "code",
   "execution_count": 25,
   "metadata": {},
   "outputs": [
    {
     "data": {
      "text/plain": [
       "<AxesSubplot:xlabel='CasesGroup', ylabel='SeriousCritical'>"
      ]
     },
     "execution_count": 25,
     "metadata": {},
     "output_type": "execute_result"
    },
    {
     "data": {
      "image/png": "[encoded data removed]",
      "text/plain": [
       "<Figure size 432x288 with 1 Axes>"
      ]
     },
     "metadata": {
      "needs_background": "light"
     },
     "output_type": "display_data"
    }
   ],
   "source": [
    "sns.barplot(x = \"CasesGroup\",y = \"SeriousCritical\", data = data)"
   ]
  },
  {
   "cell_type": "code",
   "execution_count": 26,
   "metadata": {},
   "outputs": [
    {
     "data": {
      "text/plain": [
       "<AxesSubplot:xlabel='CasesGroup', ylabel='SeriousCritical'>"
      ]
     },
     "execution_count": 26,
     "metadata": {},
     "output_type": "execute_result"
    },
    {
     "data": {
      "image/png": "[encoded data removed]",
      "text/plain": [
       "<Figure size 432x288 with 1 Axes>"
      ]
     },
     "metadata": {
      "needs_background": "light"
     },
     "output_type": "display_data"
    }
   ],
   "source": [
    "sns.boxplot(x = \"CasesGroup\",y = \"SeriousCritical\", data = data)"
   ]
  },
  {
   "cell_type": "code",
   "execution_count": 27,
   "metadata": {},
   "outputs": [],
   "source": [
    "def removeoutlier(values):\n",
    "\n",
    "    fator = 1.5\n",
    "\n",
    "    q3, q1 = np.percentile(values, [75, 25])\n",
    "\n",
    "    iqr = q3 - q1\n",
    "\n",
    "    lowpass = q1 - (iqr * fator)\n",
    "\n",
    "    highpass = q3 + (iqr * fator)\n",
    "\n",
    "    return [v for v in values if v > lowpass and v < highpass]\n",
    "\n",
    "\n",
    "nooutlier = removeoutlier(data['SeriousCritical'])\n",
    "dataaux = data[data.SeriousCritical.isin(nooutlier)]"
   ]
  },
  {
   "cell_type": "code",
   "execution_count": 28,
   "metadata": {},
   "outputs": [
    {
     "data": {
      "text/plain": [
       "<AxesSubplot:xlabel='CasesGroup', ylabel='SeriousCritical'>"
      ]
     },
     "execution_count": 28,
     "metadata": {},
     "output_type": "execute_result"
    },
    {
     "data": {
      "image/png": "[encoded data removed]",
      "text/plain": [
       "<Figure size 432x288 with 1 Axes>"
      ]
     },
     "metadata": {
      "needs_background": "light"
     },
     "output_type": "display_data"
    }
   ],
   "source": [
    "sns.boxplot(x = \"CasesGroup\",y = \"SeriousCritical\", data = dataaux)"
   ]
  },
  {
   "cell_type": "code",
   "execution_count": 29,
   "metadata": {},
   "outputs": [
    {
     "data": {
      "text/plain": [
       "<AxesSubplot:>"
      ]
     },
     "execution_count": 29,
     "metadata": {},
     "output_type": "execute_result"
    },
    {
     "data": {
      "image/png": "[encoded data removed]",
      "text/plain": [
       "<Figure size 432x288 with 2 Axes>"
      ]
     },
     "metadata": {
      "needs_background": "light"
     },
     "output_type": "display_data"
    }
   ],
   "source": [
    "corr = data.corr()\n",
    "sns.heatmap(corr)"
   ]
  },
  {
   "cell_type": "code",
   "execution_count": 30,
   "metadata": {},
   "outputs": [
    {
     "data": {
      "text/plain": [
       "<AxesSubplot:>"
      ]
     },
     "execution_count": 30,
     "metadata": {},
     "output_type": "execute_result"
    },
    {
     "data": {
      "image/png": "[encoded data removed]",
      "text/plain": [
       "<Figure size 432x288 with 2 Axes>"
      ]
     },
     "metadata": {
      "needs_background": "light"
     },
     "output_type": "display_data"
    }
   ],
   "source": [
    "filtered_data = data[['NewDeaths',\n",
    "       'TotalRecovered', 'ActiveCases', 'SeriousCritical',\n",
    "       'TotCases1Mpop', 'Deaths1Mpop', 'TotalTests',\n",
    "       'Tests1Mpop']]\n",
    "\n",
    "corr = filtered_data.corr()\n",
    "sns.heatmap(corr)"
   ]
  },
  {
   "cell_type": "code",
   "execution_count": null,
   "metadata": {},
   "outputs": [],
   "source": []
  }
 ],
 "metadata": {
  "kernelspec": {
   "display_name": "Python 3",
   "language": "python",
   "name": "python3"
  },
  "language_info": {
   "codemirror_mode": {
    "name": "ipython",
    "version": 3
   },
   "file_extension": ".py",
   "mimetype": "text/x-python",
   "name": "python",
   "nbconvert_exporter": "python",
   "pygments_lexer": "ipython3",
   "version": "3.8.5"
  }
 },
 "nbformat": 4,
 "nbformat_minor": 4
}
